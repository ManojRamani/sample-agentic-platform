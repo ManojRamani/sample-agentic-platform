{
 "cells": [
  {
   "cell_type": "markdown",
   "metadata": {},
   "source": [
    "# Advanced Agent Concepts Lab Setup\n",
    "In the next couple labs we'll be exploring some more advanced concepts of agents around model context protocol (MCP), multi-agent-system, and alternative orchestration patterns. \n",
    "\n",
    "For the module we'll be building out a deep research agent using various techniques. \n",
    "\n",
    "In order to do that, we need a way to access the internet and have our agent do searches for us. You could build this from scratch, but there's lots of products out there that do this for you. For our examples, we'll use Tavily. Tavily gives you a very generous free tier which is more than enough for our lab. \n",
    "\n",
    "## Use Tavily\n",
    "To use Tavily, you need to setup an account and get an key. \n",
    "1. Go to https://tavily.com/ and create a free account\n",
    "2. Create a .env file in this notebooks/ dir \n",
    "3. Take the tavily key and put it in the env file. \n",
    "\n",
    "```bash\n",
    "TAVILY_KEY=<PLACE IT HERE>\n",
    "```"
   ]
  },
  {
   "cell_type": "code",
   "execution_count": null,
   "metadata": {},
   "outputs": [],
   "source": [
    "import os \n",
    "from dotenv import load_dotenv\n",
    "# Check if you created the .env file before running this notebook.\n",
    "print('Does the .env file exist?', os.path.exists('.env'))\n",
    "# from dotenv import load_dotenv\n",
    "load_dotenv('.env')"
   ]
  },
  {
   "cell_type": "code",
   "execution_count": null,
   "metadata": {},
   "outputs": [],
   "source": [
    "# Test it out\n",
    "from typing import Dict\n",
    "\n",
    "from agentic_platform.core.models.memory_models import ToolResult\n",
    "\n",
    "from tavily import TavilyClient\n",
    "\n",
    "client = TavilyClient(os.getenv(\"TAVILY_KEY\"))\n",
    "\n",
    "response: Dict = client.search(query=\"What are the main differences between how the US and EU handle milk pasteurization?\")\n",
    "\n",
    "print(response)"
   ]
  },
  {
   "cell_type": "markdown",
   "metadata": {},
   "source": [
    "# Setup Docker Compose\n",
    "We've provided a docker compose file that will spin up local resources for testing. Some of the earlier content in the labs use docker compose while the later part of each lab calls services deployed through the stack. See the DEPLOYMENT.md file in the project dir for details on how to deploy"
   ]
  }
 ],
 "metadata": {
  "kernelspec": {
   "display_name": ".venv",
   "language": "python",
   "name": "python3"
  },
  "language_info": {
   "codemirror_mode": {
    "name": "ipython",
    "version": 3
   },
   "file_extension": ".py",
   "mimetype": "text/x-python",
   "name": "python",
   "nbconvert_exporter": "python",
   "pygments_lexer": "ipython3",
   "version": "3.12.8"
  }
 },
 "nbformat": 4,
 "nbformat_minor": 2
}
