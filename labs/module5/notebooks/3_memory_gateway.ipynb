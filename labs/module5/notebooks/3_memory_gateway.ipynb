{
 "cells": [
  {
   "cell_type": "markdown",
   "id": "c5505c09",
   "metadata": {},
   "source": [
    "# Agentic Platform: Memory Gateway\n",
    "\n",
    "This lab introduces the concept of a Memory Gateway. Memory Gateways provide a standard API on top of the underlying memory implementation. The gateway makes it simple to change out an underlying memory store, like moving from PostgreSQL to a NoSQL database, without changing the agents that use the memory. As long as the underlying memory store supports the same contract in the gateway, clients are unaffected.\n",
    "\n",
    "There are many open-source frameworks that provide memory features for agents, including [Mem0](https://mem0.ai/). However, there is not a standard gateway implementation.\n",
    "\n",
    "To get started, let's build a simple memory gateway that uses PostgreSQL as the underlying data store. In the platform we use Aurora RDS PostgreSQL, but here we will use a PostgreSQL database running in a Docker container."
   ]
  },
  {
   "cell_type": "markdown",
   "id": "7018c9c7",
   "metadata": {},
   "source": [
    "## Memory Gateway components\n",
    "\n",
    "Our memory gateway exposes four methods.\n",
    "\n",
    "`get-session-context` retrieves session-specific data.\n",
    "`upsert-session-context` adds new messages to a session history\n",
    "`get-memories` retrieves memories for a session or user\n",
    "`create-memory` creates a new memory for a user or session\n",
    "\n",
    "To put these methods into context, the memory gateway deals with two forms of memory. Session memory is a short-term log of messages in a single conversation or session. The more general purpose memory stores a piece of content, when the memory was created, and optionally the embedding representation of that content.\n",
    "\n",
    "In usage, the short-term session memory will let you retrieve the flow of a single session or conversation. The general purpose memory will let you retrieve contextual information based on session, user, or agent ID, or using a semantic embedding search."
   ]
  },
  {
   "cell_type": "markdown",
   "id": "2640e652",
   "metadata": {},
   "source": [
    "## Using local PostgreSQL\n",
    "\n",
    "To experiment with PostgreSQL, we've provided a docker-compose file in the main project. You can spin up the docker compose to get a local instance of PostgreSQL. In the agent stack PostgreSQL is in a private subnet making it harder to test. You can port foward through the jump box if you'd like to hit it directly, but for this lab we'll be hitting our local docker instance.\n",
    "\n",
    "You should create a .env file in this directory and have these values once docker compose is stood up. \n",
    "\n",
    "```bash\n",
    "export ENVIRONMENT=local\n",
    "export PG_DATABASE=devdb\n",
    "export PG_USER=dev\n",
    "export PG_READ_ONLY_USER=dev\n",
    "export PG_PASSWORD='dev'\n",
    "export PG_READ_ONLY_PASSWORD='dev'\n",
    "export PG_CONNECTION_URL=localhost\n",
    "```"
   ]
  },
  {
   "cell_type": "code",
   "execution_count": null,
   "id": "1ae348e8",
   "metadata": {},
   "outputs": [],
   "source": [
    "from dotenv import load_dotenv\n",
    "\n",
    "load_dotenv()"
   ]
  },
  {
   "cell_type": "markdown",
   "id": "b9ba7ad0",
   "metadata": {},
   "source": [
    "## Create and retrieve basic memory entries\n",
    "\n",
    "Let's get started by creating and retrieving a few sample memory entries. Here are the definitions of a session and general-purpose memory entry."
   ]
  },
  {
   "cell_type": "code",
   "execution_count": null,
   "id": "129f4ccb",
   "metadata": {},
   "outputs": [],
   "source": [
    "from agentic_platform.core.models.memory_models import SessionContext, Memory"
   ]
  },
  {
   "cell_type": "code",
   "execution_count": null,
   "id": "0d0f0eb1",
   "metadata": {},
   "outputs": [],
   "source": [
    "SessionContext??"
   ]
  },
  {
   "cell_type": "code",
   "execution_count": null,
   "id": "a154aa03",
   "metadata": {},
   "outputs": [],
   "source": [
    "Memory??"
   ]
  },
  {
   "cell_type": "markdown",
   "id": "2f6c146a",
   "metadata": {},
   "source": [
    "Now we'll use the agentic platform API to store a couple of sample entries."
   ]
  },
  {
   "cell_type": "code",
   "execution_count": null,
   "id": "b5e38692",
   "metadata": {},
   "outputs": [],
   "source": [
    "from agentic_platform.core.models.memory_models import CreateMemoryRequest, UpsertSessionContextRequest\n",
    "from agentic_platform.core.models.llm_models import Message\n",
    "from agentic_platform.service.memory_gateway.api.create_memory_controller import CreateMemoryController\n",
    "from agentic_platform.service.memory_gateway.api.upsert_session_controller import UpsertSessionContextController"
   ]
  },
  {
   "cell_type": "code",
   "execution_count": null,
   "id": "eb4379e6",
   "metadata": {},
   "outputs": [],
   "source": [
    "session_entry = SessionContext()\n",
    "session_entry.add_message(Message(role='user', text='sample message'))"
   ]
  },
  {
   "cell_type": "code",
   "execution_count": null,
   "id": "0492120c",
   "metadata": {},
   "outputs": [],
   "source": [
    "from agentic_platform.core.models.memory_models import CreateMemoryResponse, UpsertSessionContextResponse\n",
    "upsert_request : UpsertSessionContextRequest = UpsertSessionContextRequest(\n",
    "    session_context=session_entry\n",
    ")\n",
    "\n",
    "response: UpsertSessionContextResponse = UpsertSessionContextController.upsert_session_context(upsert_request)\n",
    "print(response.model_dump_json(indent=2))"
   ]
  },
  {
   "cell_type": "code",
   "execution_count": null,
   "id": "c37625c1",
   "metadata": {},
   "outputs": [],
   "source": [
    "import uuid\n",
    "session_entry.add_message(Message(role='assistant', text='Could you elaborate?'))\n",
    "session_entry.add_message(Message(role='user', text='Meant to ask you to tell me a joke'))\n",
    "session_entry.add_message(Message(role='assistant', text='Knock knock!'))\n",
    "session_entry.add_message(Message(role='user', text='My favorite sport is football, tell me a joke about that'))\n",
    "session_entry.add_message(Message(role='assistant', text='Why do football players get paid so much? Overtime!'))\n",
    "memory_entry = CreateMemoryRequest(session_id = session_entry.session_id,\n",
    "                                   agent_id=str(uuid.uuid4()),\n",
    "                                   user_id='test_user',\n",
    "                                   session_context=session_entry)"
   ]
  },
  {
   "cell_type": "code",
   "execution_count": null,
   "id": "aab5e7a5",
   "metadata": {},
   "outputs": [],
   "source": [
    "response: CreateMemoryResponse = CreateMemoryController.create_memory(memory_entry)\n",
    "print(response.model_dump_json(indent=2))"
   ]
  },
  {
   "cell_type": "markdown",
   "id": "bfeaf09c",
   "metadata": {},
   "source": [
    "Now, let's retrieve our session and memory."
   ]
  },
  {
   "cell_type": "code",
   "execution_count": null,
   "id": "4af1372a",
   "metadata": {},
   "outputs": [],
   "source": [
    "from agentic_platform.core.models.memory_models import GetMemoriesRequest, GetMemoriesResponse, GetSessionContextRequest, GetSessionContextResponse\n",
    "\n",
    "get_memory_request : GetMemoriesRequest = GetMemoriesRequest(\n",
    "    session_id = session_entry.session_id\n",
    ")"
   ]
  },
  {
   "cell_type": "code",
   "execution_count": null,
   "id": "85ccab3d",
   "metadata": {},
   "outputs": [],
   "source": [
    "get_session_request: GetSessionContextRequest = GetSessionContextRequest(\n",
    "    session_id = session_entry.session_id\n",
    ")"
   ]
  },
  {
   "cell_type": "code",
   "execution_count": null,
   "id": "160dab2f",
   "metadata": {},
   "outputs": [],
   "source": [
    "from agentic_platform.service.memory_gateway.api.get_memory_controller import GetMemoriesController\n",
    "from agentic_platform.service.memory_gateway.api.get_session_controller import GetSessionContextController\n",
    "\n",
    "response: GetSessionContextResponse = GetSessionContextController.get_session_context(get_session_request)\n",
    "print(response.model_dump_json(indent=2))"
   ]
  },
  {
   "cell_type": "code",
   "execution_count": null,
   "id": "3c047ff1",
   "metadata": {},
   "outputs": [],
   "source": [
    "response: GetMemoriesResponse = GetMemoriesController.get_memories(get_memory_request)\n",
    "print(response.model_dump_json(indent=2))"
   ]
  },
  {
   "cell_type": "markdown",
   "id": "fa9036ed",
   "metadata": {},
   "source": [
    "We can also retrieve by embedding similarity."
   ]
  },
  {
   "cell_type": "code",
   "execution_count": null,
   "id": "a0acd527",
   "metadata": {},
   "outputs": [],
   "source": [
    "get_memory_request : GetMemoriesRequest = GetMemoriesRequest(\n",
    "    session_id = session_entry.session_id,\n",
    "    embedding=response.memories[0].embedding\n",
    ")"
   ]
  },
  {
   "cell_type": "code",
   "execution_count": null,
   "id": "de3cdc82",
   "metadata": {},
   "outputs": [],
   "source": [
    "response: GetMemoriesResponse = GetMemoriesController.get_memories(get_memory_request)\n",
    "print(response.model_dump_json(indent=2))"
   ]
  },
  {
   "cell_type": "markdown",
   "id": "916ce8d0",
   "metadata": {},
   "source": [
    "## Implement a basic gateway\n",
    "\n",
    "Let's examine the code behind our memory gateway."
   ]
  },
  {
   "cell_type": "code",
   "execution_count": null,
   "id": "d1692de6",
   "metadata": {},
   "outputs": [],
   "source": [
    "%pycat ../../../src/agentic_platform/service/memory_gateway/server.py"
   ]
  },
  {
   "cell_type": "markdown",
   "id": "e3f5e1f2",
   "metadata": {},
   "source": [
    "In order to avoid needing authentication, we'll reproduce this code here."
   ]
  },
  {
   "cell_type": "code",
   "execution_count": null,
   "id": "3a5b8237",
   "metadata": {},
   "outputs": [],
   "source": [
    "# Continue with regular imports.\n",
    "from fastapi import FastAPI\n",
    "from agentic_platform.core.models.memory_models import (\n",
    "    GetSessionContextRequest,\n",
    "    GetSessionContextResponse,\n",
    "    UpsertSessionContextRequest,\n",
    "    UpsertSessionContextResponse,\n",
    "    GetMemoriesRequest,\n",
    "    GetMemoriesResponse,\n",
    "    CreateMemoryRequest,\n",
    "    CreateMemoryResponse\n",
    ")\n",
    "from agentic_platform.service.memory_gateway.api.get_session_controller import GetSessionContextController\n",
    "from agentic_platform.service.memory_gateway.api.upsert_session_controller import UpsertSessionContextController\n",
    "from agentic_platform.service.memory_gateway.api.get_memory_controller import GetMemoriesController\n",
    "from agentic_platform.service.memory_gateway.api.create_memory_controller import CreateMemoryController\n",
    "\n",
    "app = FastAPI()\n",
    "\n",
    "@app.post(\"/get-session-context\")\n",
    "async def get_session_context(request: GetSessionContextRequest) -> GetSessionContextResponse:\n",
    "    \"\"\"Get the session context for a given session id.\"\"\"\n",
    "    return GetSessionContextController.get_session_context(request)\n",
    "\n",
    "@app.post(\"/upsert-session-context\")\n",
    "async def upsert_session_context(request: UpsertSessionContextRequest) -> UpsertSessionContextResponse:\n",
    "    \"\"\"Upsert the session context for a given session id.\"\"\"\n",
    "    return UpsertSessionContextController.upsert_session_context(request)\n",
    "\n",
    "@app.post(\"/get-memories\")\n",
    "async def get_memories(request: GetMemoriesRequest) -> GetMemoriesResponse:\n",
    "    \"\"\"Get the memories for a given session id.\"\"\"\n",
    "    return GetMemoriesController.get_memories(request)\n",
    "\n",
    "@app.post(\"/create-memory\")\n",
    "async def create_memory(request: CreateMemoryRequest) -> CreateMemoryResponse:\n",
    "    \"\"\"Create a memory for a given session id.\"\"\"\n",
    "    return CreateMemoryController.create_memory(request)\n",
    "\n",
    "@app.get(\"/health\")\n",
    "async def health():\n",
    "    \"\"\"\n",
    "    Health check endpoint for Kubernetes probes.\n",
    "    \"\"\"\n",
    "    return {\"status\": \"healthy\"}\n",
    "\n"
   ]
  },
  {
   "cell_type": "code",
   "execution_count": null,
   "id": "c9a03280",
   "metadata": {},
   "outputs": [],
   "source": [
    "from fastapi.testclient import TestClient\n",
    "test_client = TestClient(app)"
   ]
  },
  {
   "cell_type": "markdown",
   "id": "2a514473",
   "metadata": {},
   "source": [
    "Now we can use the local API to retrieve the same session and memories."
   ]
  },
  {
   "cell_type": "code",
   "execution_count": null,
   "id": "1dc86d63",
   "metadata": {},
   "outputs": [],
   "source": [
    "# Test the health endpoint\n",
    "response = test_client.get(\"/health\")\n",
    "print(f\"Status code: {response.status_code}\")\n",
    "print(f\"Response: {response.json()}\")"
   ]
  },
  {
   "cell_type": "code",
   "execution_count": null,
   "id": "366aac82",
   "metadata": {},
   "outputs": [],
   "source": [
    "request = GetSessionContextRequest(session_id=session_entry.session_id)\n",
    "response = test_client.post(\"/get-session-context\", json=request.dict()) \n",
    "print(f\"Status code: {response.status_code}\")\n",
    "print(f\"Response: {response.json()}\")"
   ]
  },
  {
   "cell_type": "code",
   "execution_count": null,
   "id": "6e85521f",
   "metadata": {},
   "outputs": [],
   "source": [
    "response = test_client.post(\"/get-memories\", json=get_memory_request.dict()) \n",
    "print(f\"Status code: {response.status_code}\")\n",
    "print(f\"Response: {response.json()}\")"
   ]
  },
  {
   "cell_type": "markdown",
   "id": "4e1bc15c",
   "metadata": {},
   "source": [
    "## Use the memory gateway in the platform \n",
    "\n",
    "As with the LLM gateway, we can also call the memory gateway deployed in the platform. We'll start again by looking up the DNS for the load balancer, and setting up an authentication token."
   ]
  },
  {
   "cell_type": "code",
   "execution_count": null,
   "id": "71590f7e",
   "metadata": {},
   "outputs": [],
   "source": [
    "import boto3\n",
    "from typing import List, Dict\n",
    "\n",
    "# Initialize the client\n",
    "elbv2 = boto3.client('elbv2')\n",
    "\n",
    "# List all load balancers\n",
    "load_balancers: List[Dict] = elbv2.describe_load_balancers()['LoadBalancers']\n",
    "\n",
    "# Get the load balancer name. It should be prefixed by k8s-platform\n",
    "dns_name: str = [lb['DNSName'] for lb in load_balancers if 'k8s-platform' in lb['LoadBalancerName']][0]\n",
    "dns_name"
   ]
  },
  {
   "cell_type": "code",
   "execution_count": null,
   "id": "9f4f3ec7",
   "metadata": {},
   "outputs": [],
   "source": [
    "# Get our Secret for Auth\n",
    "import json\n",
    "import boto3\n",
    "from typing import Dict\n",
    "# The name should be prefixed by whatever you named your stack prefix followed by -m2m-credentials\n",
    "secret_name: str = 'agent-base-rd-m2m-credentials'\n",
    "secret = boto3.client('secretsmanager').get_secret_value(SecretId=secret_name)\n",
    "secret_value: str = secret['SecretString']\n",
    "\n",
    "# Parse the secret value\n",
    "secret_value_dict: Dict = json.loads(secret_value)"
   ]
  },
  {
   "cell_type": "code",
   "execution_count": null,
   "id": "8d2693b6",
   "metadata": {},
   "outputs": [],
   "source": [
    "import requests\n",
    "\n",
    "def get_token():\n",
    "    client_id = secret_value_dict.get('client_id')\n",
    "    client_secret = secret_value_dict.get('client_secret')\n",
    "    token_url = secret_value_dict.get('token_url')\n",
    "    scopes = secret_value_dict.get('scopes')\n",
    "\n",
    "    data={\n",
    "        'grant_type': 'client_credentials',\n",
    "        'client_id': client_id,\n",
    "        'client_secret': client_secret,\n",
    "        'scope': scopes\n",
    "    }\n",
    "\n",
    "    response = requests.post(\n",
    "        token_url,\n",
    "        headers={'Content-Type': 'application/x-www-form-urlencoded'},\n",
    "        data=data\n",
    "    )\n",
    "\n",
    "    token_data = response.json()\n",
    "    # Extract the access token\n",
    "    token = token_data['access_token']\n",
    "    return token\n",
    "\n",
    "def construct_auth_header(token: str) -> str:\n",
    "    return f'Bearer {token}'\n",
    "\n",
    "m2m_token = get_token()\n",
    "auth_header = construct_auth_header(m2m_token)"
   ]
  },
  {
   "cell_type": "markdown",
   "id": "e099e212",
   "metadata": {},
   "source": [
    "Let's test the health endpoint."
   ]
  },
  {
   "cell_type": "code",
   "execution_count": null,
   "id": "99d19901",
   "metadata": {},
   "outputs": [],
   "source": [
    "response = requests.get(\n",
    "        f'http://{dns_name}/memory-gateway/health',\n",
    "        timeout=5\n",
    "    )\n",
    "print(response.json())"
   ]
  },
  {
   "cell_type": "markdown",
   "id": "75b4fda0",
   "metadata": {},
   "source": [
    "Now we'll add helper methods to call the gateway through the load balancer. "
   ]
  },
  {
   "cell_type": "code",
   "execution_count": null,
   "id": "e07a9910",
   "metadata": {},
   "outputs": [],
   "source": [
    "def call_gateway_get_session(request: GetSessionContextRequest) -> GetSessionContextResponse:\n",
    "    # Call the gateway\n",
    "    response = requests.post(\n",
    "        f'http://{dns_name}/memory-gateway/get-session-context',\n",
    "        headers={'Authorization': auth_header},\n",
    "        json=request.model_dump(),\n",
    "        timeout=5\n",
    "    )\n",
    "\n",
    "    # Convert the response to our own type\n",
    "    print(json.dumps(response.json()))\n",
    "    return GetSessionContextResponse(**response.json())\n",
    "\n",
    "def call_gateway_get_memories(request: GetMemoriesRequest) -> GetMemoriesResponse:\n",
    "    # Call the gateway\n",
    "    response = requests.post(\n",
    "        f'http://{dns_name}/memory-gateway/get-memories',\n",
    "        headers={'Authorization': auth_header},\n",
    "        json=request.model_dump(),\n",
    "        timeout=5\n",
    "    )\n",
    "\n",
    "    # Convert the response to our own type\n",
    "    print(json.dumps(response.json()))\n",
    "    return GetMemoriesResponse(**response.json())\n",
    "\n",
    "def call_gateway_create_memory(request: CreateMemoryRequest) -> CreateMemoryResponse:\n",
    "    # Call the gateway\n",
    "    response = requests.post(\n",
    "        f'http://{dns_name}/memory-gateway/create-memory',\n",
    "        headers={'Authorization': auth_header},\n",
    "        json=request.model_dump(),\n",
    "        timeout=5\n",
    "    )\n",
    "\n",
    "    # Convert the response to our own type\n",
    "    print(json.dumps(response.json()))\n",
    "    return CreateMemoryResponse(**response.json())\n",
    "\n",
    "def call_gateway_upsert_session(request: UpsertSessionContextRequest) -> UpsertSessionContextResponse:\n",
    "    # Call the gateway\n",
    "    response = requests.post(\n",
    "        f'http://{dns_name}/memory-gateway/upsert-session-context',\n",
    "        headers={'Authorization': auth_header},\n",
    "        json=request.model_dump(),\n",
    "        timeout=5\n",
    "    )\n",
    "\n",
    "    # Convert the response to our own type\n",
    "    print(json.dumps(response.json()))\n",
    "    return UpsertSessionContextResponse(**response.json())"
   ]
  },
  {
   "cell_type": "markdown",
   "id": "5e82ca52",
   "metadata": {},
   "source": [
    "We'll test storing session context."
   ]
  },
  {
   "cell_type": "code",
   "execution_count": null,
   "id": "716e0572",
   "metadata": {},
   "outputs": [],
   "source": [
    "session_entry = SessionContext()\n",
    "session_entry.add_message(Message(role='user', text='sample message'))\n",
    "upsert_request : UpsertSessionContextRequest = UpsertSessionContextRequest(\n",
    "    session_context=session_entry\n",
    ")"
   ]
  },
  {
   "cell_type": "code",
   "execution_count": null,
   "id": "9c08de0a",
   "metadata": {},
   "outputs": [],
   "source": [
    "response: UpsertSessionContextResponse = call_gateway_upsert_session(upsert_request)"
   ]
  },
  {
   "cell_type": "code",
   "execution_count": null,
   "id": "b8d689ee",
   "metadata": {},
   "outputs": [],
   "source": [
    "print(response.model_dump_json(indent=2))"
   ]
  },
  {
   "cell_type": "code",
   "execution_count": null,
   "id": "0954d330",
   "metadata": {},
   "outputs": [],
   "source": []
  }
 ],
 "metadata": {
  "kernelspec": {
   "display_name": ".venv",
   "language": "python",
   "name": "python3"
  },
  "language_info": {
   "codemirror_mode": {
    "name": "ipython",
    "version": 3
   },
   "file_extension": ".py",
   "mimetype": "text/x-python",
   "name": "python",
   "nbconvert_exporter": "python",
   "pygments_lexer": "ipython3",
   "version": "3.12.7"
  }
 },
 "nbformat": 4,
 "nbformat_minor": 5
}
